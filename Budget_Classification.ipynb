{
  "nbformat": 4,
  "nbformat_minor": 0,
  "metadata": {
    "colab": {
      "provenance": [],
      "authorship_tag": "ABX9TyPdGqWvrR5p9McVYzr0aoDQ",
      "include_colab_link": true
    },
    "kernelspec": {
      "name": "python3",
      "display_name": "Python 3"
    },
    "language_info": {
      "name": "python"
    }
  },
  "cells": [
    {
      "cell_type": "markdown",
      "metadata": {
        "id": "view-in-github",
        "colab_type": "text"
      },
      "source": [
        "<a href=\"https://colab.research.google.com/github/niklas-joh/6-CoderSwag/blob/master/Budget_Classification.ipynb\" target=\"_parent\"><img src=\"https://colab.research.google.com/assets/colab-badge.svg\" alt=\"Open In Colab\"/></a>"
      ]
    },
    {
      "cell_type": "code",
      "source": [
        "import pandas as pd\n",
        "from sklearn.model_selection import train_test_split\n",
        "from sklearn.ensemble import RandomForestClassifier\n",
        "from sklearn.metrics import accuracy_score, classification_report\n",
        "from sklearn.feature_extraction.text import TfidfVectorizer\n",
        "from sklearn.multioutput import MultiOutputClassifier\n",
        "from sklearn.metrics import hamming_loss, f1_score"
      ],
      "metadata": {
        "id": "Qn1wVMGeDJxX"
      },
      "execution_count": null,
      "outputs": []
    },
    {
      "cell_type": "markdown",
      "source": [
        "Load classified 2022 dataset"
      ],
      "metadata": {
        "id": "B5iJuX_sqt-n"
      }
    },
    {
      "cell_type": "code",
      "source": [
        "# Load the 2022 dataset\n",
        "file_path_2022 = 'Budget2022.xlsx'  # Replace with your file path\n",
        "budget_data_2022 = pd.read_excel(file_path_2022, header=6)  # Adjust header row if needed\n",
        "budget_data_2022.head()\n"
      ],
      "metadata": {
        "id": "-kh55ZMBqspJ"
      },
      "execution_count": null,
      "outputs": []
    },
    {
      "cell_type": "markdown",
      "source": [
        "Preprocess the 2022 dataset"
      ],
      "metadata": {
        "id": "xH4gxkE5rj-D"
      }
    },
    {
      "cell_type": "code",
      "source": [
        "# Preprocess the 2022 dataset\n",
        "# Convert 'Date' to datetime and extract relevant parts\n",
        "budget_data_2022['Date'] = pd.to_datetime(budget_data_2022['Date'])\n",
        "budget_data_2022['Year'] = budget_data_2022['Date'].dt.year\n",
        "budget_data_2022['Month'] = budget_data_2022['Date'].dt.month\n",
        "budget_data_2022['Day'] = budget_data_2022['Date'].dt.day\n",
        "budget_data_2022['Is_weekend'] = budget_data_2022['Date'].dt.weekday >= 5\n",
        "\n",
        "# Convert 'Amount' to numeric\n",
        "budget_data_2022['Amount'] = pd.to_numeric(budget_data_2022['Amount'], errors='coerce')"
      ],
      "metadata": {
        "id": "m0wG5Qmirip2"
      },
      "execution_count": null,
      "outputs": []
    },
    {
      "cell_type": "code",
      "source": [
        "# Check for missing values\n",
        "missing_values = budget_data_2022.isnull().sum()\n",
        "data_types = budget_data_2022.dtypes\n",
        "\n",
        "missing_values, data_types"
      ],
      "metadata": {
        "id": "K2yOiAVwvrTz"
      },
      "execution_count": null,
      "outputs": []
    },
    {
      "cell_type": "code",
      "source": [
        "# Display only rows where 'Sub-Category' is missing. Change column name to see other columns\n",
        "missing_values = budget_data_2022[budget_data_2022['Sub-Category'].isna()]\n",
        "\n",
        "# Displaying the result\n",
        "missing_values"
      ],
      "metadata": {
        "id": "iOPgYQ2GxbmP"
      },
      "execution_count": null,
      "outputs": []
    },
    {
      "cell_type": "code",
      "source": [
        "# Handle missing values\n",
        "\n",
        "# Fill missing values in 'Sub-Category' with corresponding 'Category' values\n",
        "budget_data_2022['Sub-Category'] = budget_data_2022['Sub-Category'].fillna(budget_data_2022['Category'])\n",
        "\n",
        "# Display only rows where 'Sub-Category' is missing. Change column name to see other columns\n",
        "missing_values = budget_data_2022[budget_data_2022['Sub-Category'].isna()]\n",
        "\n",
        "# Display the result\n",
        "missing_values"
      ],
      "metadata": {
        "id": "GihdOIpMwnzp"
      },
      "execution_count": null,
      "outputs": []
    },
    {
      "cell_type": "code",
      "source": [
        "# Dropping rows where 'Type', 'Heading', or 'Category' is missing\n",
        "budget_data_2022 = budget_data_2022.dropna(subset=['Type', 'Heading', 'Category'])\n",
        "missing_values = budget_data_2022[budget_data_2022['Category'].isna()]\n",
        "\n",
        "# Display the result\n",
        "missing_values"
      ],
      "metadata": {
        "id": "wNjy3474BKzr"
      },
      "execution_count": null,
      "outputs": []
    },
    {
      "cell_type": "code",
      "source": [
        "# Check for missing values\n",
        "missing_values = budget_data_2022[budget_data_2022['Operation'].isna()]\n",
        "\n",
        "# Display the result\n",
        "missing_values"
      ],
      "metadata": {
        "id": "BryEC4MQB0KR"
      },
      "execution_count": null,
      "outputs": []
    },
    {
      "cell_type": "code",
      "source": [
        "# Apply TF-IDF to 'Operation', a text analysis that splits text into multiple columns\n",
        "tfidf = TfidfVectorizer(max_features=100)\n",
        "operation_tfidf = tfidf.fit_transform(budget_data_2022['Operation'])\n",
        "operation_tfidf_df = pd.DataFrame(operation_tfidf.toarray(), columns=tfidf.get_feature_names_out())\n",
        "operation_tfidf_df.isna()"
      ],
      "metadata": {
        "id": "p3y32gMk2NDv"
      },
      "execution_count": null,
      "outputs": []
    },
    {
      "cell_type": "code",
      "source": [
        "# Encode categorical variables and remove non-relevant columns\n",
        "encoded_columns = pd.get_dummies(budget_data_2022[['Type', 'Heading', 'Category', 'Sub-Category']])\n",
        "columns_to_drop = ['#','Operation', 'Date', 'Beneficiary Name', 'Beneficiary Account', 'Communication', 'Card','Countervalue', 'Currency2', 'City', 'Country']\n",
        "budget_data_2022_processed = pd.concat([budget_data_2022, encoded_columns, operation_tfidf_df], axis=1).drop(columns_to_drop, axis=1)\n",
        "budget_data_2022_processed"
      ],
      "metadata": {
        "id": "pVG4KElbtIdN"
      },
      "execution_count": null,
      "outputs": []
    },
    {
      "cell_type": "code",
      "source": [
        "# Check for missing values\n",
        "# missing_values = budget_data_2022_processed.isnull().sum()\n",
        "\n",
        "# missing_values\n",
        "\n",
        "# Display only rows where 'Sub-Category' is missing. Change column name to see other columns\n",
        "# missing_values = budget_data_2022_processed[budget_data_2022_processed['Type'].isna()]\n",
        "\n",
        "# Display the result\n",
        "# missing_values\n",
        "budget_data_2022_processed = budget_data_2022_processed.dropna()\n",
        "budget_data_2022_processed"
      ],
      "metadata": {
        "id": "O4ZLnR3z0T2j"
      },
      "execution_count": null,
      "outputs": []
    },
    {
      "cell_type": "code",
      "source": [
        "# Split the data into features and targets\n",
        "target_columns = ['Type', 'Heading', 'Category', 'Sub-Category']  # Adjust as per your target labels\n",
        "\n",
        "# Concatenate the target columns into one column separated by '|'\n",
        "budget_data_2022_processed['Combined_Targets'] = budget_data_2022_processed[target_columns].apply(lambda x: '|'.join(x.astype(str)), axis=1)\n",
        "\n",
        "# Now, your y values are in the 'Combined_Targets' column\n",
        "y = budget_data_2022_processed['Combined_Targets']\n",
        "combined_targets = ['Combined_Targets']"
      ],
      "metadata": {
        "id": "Q-8_VJ1ItLLt"
      },
      "execution_count": null,
      "outputs": []
    },
    {
      "cell_type": "code",
      "source": [
        "X = budget_data_2022_processed.drop(target_columns, axis=1)\n",
        "# y = budget_data_2022_processed[target_columns]\n",
        "X.head()"
      ],
      "metadata": {
        "id": "NiLN7YfEPwcG"
      },
      "execution_count": null,
      "outputs": []
    },
    {
      "cell_type": "code",
      "source": [
        "X = X.drop(combined_targets, axis=1)\n",
        "X.head()"
      ],
      "metadata": {
        "id": "HIAS1kfhQM4l"
      },
      "execution_count": null,
      "outputs": []
    },
    {
      "cell_type": "code",
      "source": [
        "# Split the data into training and validation sets\n",
        "X_train, X_val, y_train, y_val = train_test_split(X, y, test_size=0.2, random_state=42)\n",
        "X_train.head()\n",
        "#y_train.head()"
      ],
      "metadata": {
        "id": "R7j1O5M86wFw"
      },
      "execution_count": null,
      "outputs": []
    },
    {
      "cell_type": "code",
      "source": [
        "# Check for missing values\n",
        "# X_train_missing_values = X_train.isnull().sum()\n",
        "\n",
        "# X_train_missing_values\n",
        "\n",
        "# Display only rows where 'Sub-Category' is missing. Change column name to see other columns\n",
        "# X_train_missing_values_column = X_train[X_train['Amount'].isna()]\n",
        "\n",
        "# Display the result\n",
        "# X_train_missing_values_column\n",
        "# X.iloc[1111:1118]\n",
        "# y.isna()\n",
        "# y.dropna()\n",
        "# y.reset_index()\n",
        "# y.isna()\n"
      ],
      "metadata": {
        "id": "3reoJsVW5LUx"
      },
      "execution_count": null,
      "outputs": []
    },
    {
      "cell_type": "code",
      "source": [
        "# Initialise the Random Forest Classifier and wrap in MultiOutputClassifier\n",
        "rf_classifier = RandomForestClassifier(random_state=42)\n",
        "# multi_output_classifer = MultiOutputClassifier(rf_classifier)\n",
        "\n",
        "# Train the model\n",
        "# multi_output_classifier.fit(X_train, y_train)\n",
        "rf_classifier.fit(X_train, y_train)\n",
        "# Evaluate the model\n",
        "y_pred = rf_classifier.predict(X_val)"
      ],
      "metadata": {
        "id": "zhVv8Dc4tNGE"
      },
      "execution_count": null,
      "outputs": []
    },
    {
      "cell_type": "code",
      "source": [
        "# accuracy is not applicable for multi-label output, only on single-label output. Uncomment if needed.\n",
        "accuracy = accuracy_score(y_val, y_pred)\n",
        "# classification_report_results = classification_report(y_val, y_pred, target_names=combined_targets, zero_division=0)\n",
        "print(\"Accuracy:\", accuracy)\n",
        "# print(\"Classification Report:\\n\", classification_report_results);\n",
        "\n",
        "# Output the accuracy and classification report\n",
        "\n",
        "# Evaluate the model using appropriate multi-label metrics\n",
        "# Hamming Loss\n",
        "# hamming_loss_val = hamming_loss(y_val, y_pred)\n",
        "\n",
        "# F1 Score - calculate for each label and then find their unweighted mean\n",
        "# f1_score_val = f1_score(y_val, y_pred, average='samples')\n",
        "\n",
        "# print(\"Hamming Loss:\", hamming_loss_val)\n",
        "# print(\"F1 Score (Sample Average):\", f1_score_val)\n",
        "\n",
        "# For a detailed classification report\n",
        "# print(\"Classification Report:\\n\", classification_report(y_val, y_pred, zero_division=0))\n"
      ],
      "metadata": {
        "id": "aH_MJ1IqF5y5"
      },
      "execution_count": null,
      "outputs": []
    },
    {
      "cell_type": "code",
      "source": [
        "y_pred"
      ],
      "metadata": {
        "collapsed": true,
        "id": "A00Q9o7CRXc9"
      },
      "execution_count": null,
      "outputs": []
    },
    {
      "cell_type": "code",
      "source": [
        "# Export to Excel for manual compare\n",
        "\n",
        "# Convert predictions and actual values to DataFrame\n",
        "predictions_df = pd.DataFrame(y_pred, columns=['Pred_' + col for col in y_val.columns])\n",
        "actual_df = pd.DataFrame(y_val.to_numpy(), columns=['Actual_' + col for col in y_val.columns], index=y_val.index)\n",
        "\n",
        "# Combine both DataFrames\n",
        "comparison_df = pd.concat([actual_df, predictions_df], axis=1)\n",
        "\n",
        "# Write the DataFrame to an Excel file\n",
        "comparison_df.to_excel(\"predictions_comparison.xlsx\")\n"
      ],
      "metadata": {
        "id": "lkMYI9xtJ5ZK"
      },
      "execution_count": null,
      "outputs": []
    }
  ]
}